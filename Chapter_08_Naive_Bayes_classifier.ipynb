{
  "nbformat": 4,
  "nbformat_minor": 0,
  "metadata": {
    "kernelspec": {
      "display_name": "Python 3",
      "language": "python",
      "name": "python3"
    },
    "language_info": {
      "codemirror_mode": {
        "name": "ipython",
        "version": 3
      },
      "file_extension": ".py",
      "mimetype": "text/x-python",
      "name": "python",
      "nbconvert_exporter": "python",
      "pygments_lexer": "ipython3",
      "version": "3.7.1"
    },
    "colab": {
      "name": "Chapter 08 - Naive Bayes classifier.ipynb",
      "provenance": [],
      "include_colab_link": true
    }
  },
  "cells": [
    {
      "cell_type": "markdown",
      "metadata": {
        "id": "view-in-github",
        "colab_type": "text"
      },
      "source": [
        "<a href=\"https://colab.research.google.com/github/chen-szuyu-cody/Class_Practices/blob/master/Chapter_08_Naive_Bayes_classifier.ipynb\" target=\"_parent\"><img src=\"https://colab.research.google.com/assets/colab-badge.svg\" alt=\"Open In Colab\"/></a>"
      ]
    },
    {
      "cell_type": "markdown",
      "metadata": {
        "id": "F_8vzAqTOSWt",
        "colab_type": "text"
      },
      "source": [
        "# Chapter 8: The Naive Bayes Classifier\n",
        "\n",
        "> (c) 2019 Galit Shmueli, Peter C. Bruce, Peter Gedeck \n",
        ">\n",
        "> Code included in\n",
        ">\n",
        "> _Data Mining for Business Analytics: Concepts, Techniques, and Applications in Python_ (First Edition) \n",
        "> Galit Shmueli, Peter C. Bruce, Peter Gedeck, and Nitin R. Patel. 2019.\n",
        "\n",
        "## Import required packages"
      ]
    },
    {
      "cell_type": "code",
      "metadata": {
        "id": "cj0tQjmWOsoq",
        "colab_type": "code",
        "colab": {
          "base_uri": "https://localhost:8080/",
          "height": 108
        },
        "outputId": "a3304e71-1e98-4dd8-8e76-46796f12812d"
      },
      "source": [
        "!pip install dmba"
      ],
      "execution_count": 2,
      "outputs": [
        {
          "output_type": "stream",
          "text": [
            "Collecting dmba\n",
            "  Downloading https://files.pythonhosted.org/packages/36/3a/c536088104192635afbdec5c9d782ebac5a7eb6e23ed6cd283acc13826bf/dmba-0.0.11-py3-none-any.whl\n",
            "Installing collected packages: dmba\n",
            "Successfully installed dmba-0.0.11\n"
          ],
          "name": "stdout"
        }
      ]
    },
    {
      "cell_type": "code",
      "metadata": {
        "id": "JXCTcxEqOSWx",
        "colab_type": "code",
        "colab": {
          "base_uri": "https://localhost:8080/",
          "height": 35
        },
        "outputId": "7f00d329-eb98-4344-c3a9-cc493088506b"
      },
      "source": [
        "%matplotlib inline\n",
        "\n",
        "from pathlib import Path\n",
        "\n",
        "import pandas as pd\n",
        "from sklearn.model_selection import train_test_split\n",
        "from sklearn.naive_bayes import MultinomialNB\n",
        "import matplotlib.pylab as plt\n",
        "from dmba import classificationSummary, gainsChart\n"
      ],
      "execution_count": 3,
      "outputs": [
        {
          "output_type": "stream",
          "text": [
            "no display found. Using non-interactive Agg backend\n"
          ],
          "name": "stdout"
        }
      ]
    },
    {
      "cell_type": "code",
      "metadata": {
        "id": "PBKSa391O0_D",
        "colab_type": "code",
        "colab": {}
      },
      "source": [
        "from google.colab import files\n",
        "import io\n",
        "from google.colab import files\n",
        "uploaded = files.upload()\n",
        "\n",
        "df = pd.read_csv(io.BytesIO(uploaded['UniversalBank.csv']))\n",
        "\n",
        "# delays_df = pd.read_csv('FlightDelays.csv')\n",
        "# delays_df.head()"
      ],
      "execution_count": 0,
      "outputs": []
    },
    {
      "cell_type": "code",
      "metadata": {
        "id": "uYF4XOEUO_gz",
        "colab_type": "code",
        "colab": {
          "base_uri": "https://localhost:8080/",
          "height": 221
        },
        "outputId": "c1b90c57-b161-42e8-d018-f6ddc7e6dcfa"
      },
      "source": [
        "df.head()"
      ],
      "execution_count": 12,
      "outputs": [
        {
          "output_type": "execute_result",
          "data": {
            "text/html": [
              "<div>\n",
              "<style scoped>\n",
              "    .dataframe tbody tr th:only-of-type {\n",
              "        vertical-align: middle;\n",
              "    }\n",
              "\n",
              "    .dataframe tbody tr th {\n",
              "        vertical-align: top;\n",
              "    }\n",
              "\n",
              "    .dataframe thead th {\n",
              "        text-align: right;\n",
              "    }\n",
              "</style>\n",
              "<table border=\"1\" class=\"dataframe\">\n",
              "  <thead>\n",
              "    <tr style=\"text-align: right;\">\n",
              "      <th></th>\n",
              "      <th>ID</th>\n",
              "      <th>Age</th>\n",
              "      <th>Experience</th>\n",
              "      <th>Income</th>\n",
              "      <th>ZIP Code</th>\n",
              "      <th>Family</th>\n",
              "      <th>CCAvg</th>\n",
              "      <th>Education</th>\n",
              "      <th>Mortgage</th>\n",
              "      <th>Personal Loan</th>\n",
              "      <th>Securities Account</th>\n",
              "      <th>CD Account</th>\n",
              "      <th>Online</th>\n",
              "      <th>CreditCard</th>\n",
              "    </tr>\n",
              "  </thead>\n",
              "  <tbody>\n",
              "    <tr>\n",
              "      <th>0</th>\n",
              "      <td>1</td>\n",
              "      <td>25</td>\n",
              "      <td>1</td>\n",
              "      <td>49</td>\n",
              "      <td>91107</td>\n",
              "      <td>4</td>\n",
              "      <td>1.6</td>\n",
              "      <td>1</td>\n",
              "      <td>0</td>\n",
              "      <td>0</td>\n",
              "      <td>1</td>\n",
              "      <td>0</td>\n",
              "      <td>0</td>\n",
              "      <td>0</td>\n",
              "    </tr>\n",
              "    <tr>\n",
              "      <th>1</th>\n",
              "      <td>2</td>\n",
              "      <td>45</td>\n",
              "      <td>19</td>\n",
              "      <td>34</td>\n",
              "      <td>90089</td>\n",
              "      <td>3</td>\n",
              "      <td>1.5</td>\n",
              "      <td>1</td>\n",
              "      <td>0</td>\n",
              "      <td>0</td>\n",
              "      <td>1</td>\n",
              "      <td>0</td>\n",
              "      <td>0</td>\n",
              "      <td>0</td>\n",
              "    </tr>\n",
              "    <tr>\n",
              "      <th>2</th>\n",
              "      <td>3</td>\n",
              "      <td>39</td>\n",
              "      <td>15</td>\n",
              "      <td>11</td>\n",
              "      <td>94720</td>\n",
              "      <td>1</td>\n",
              "      <td>1.0</td>\n",
              "      <td>1</td>\n",
              "      <td>0</td>\n",
              "      <td>0</td>\n",
              "      <td>0</td>\n",
              "      <td>0</td>\n",
              "      <td>0</td>\n",
              "      <td>0</td>\n",
              "    </tr>\n",
              "    <tr>\n",
              "      <th>3</th>\n",
              "      <td>4</td>\n",
              "      <td>35</td>\n",
              "      <td>9</td>\n",
              "      <td>100</td>\n",
              "      <td>94112</td>\n",
              "      <td>1</td>\n",
              "      <td>2.7</td>\n",
              "      <td>2</td>\n",
              "      <td>0</td>\n",
              "      <td>0</td>\n",
              "      <td>0</td>\n",
              "      <td>0</td>\n",
              "      <td>0</td>\n",
              "      <td>0</td>\n",
              "    </tr>\n",
              "    <tr>\n",
              "      <th>4</th>\n",
              "      <td>5</td>\n",
              "      <td>35</td>\n",
              "      <td>8</td>\n",
              "      <td>45</td>\n",
              "      <td>91330</td>\n",
              "      <td>4</td>\n",
              "      <td>1.0</td>\n",
              "      <td>2</td>\n",
              "      <td>0</td>\n",
              "      <td>0</td>\n",
              "      <td>0</td>\n",
              "      <td>0</td>\n",
              "      <td>0</td>\n",
              "      <td>1</td>\n",
              "    </tr>\n",
              "  </tbody>\n",
              "</table>\n",
              "</div>"
            ],
            "text/plain": [
              "   ID  Age  Experience  ...  CD Account  Online  CreditCard\n",
              "0   1   25           1  ...           0       0           0\n",
              "1   2   45          19  ...           0       0           0\n",
              "2   3   39          15  ...           0       0           0\n",
              "3   4   35           9  ...           0       0           0\n",
              "4   5   35           8  ...           0       0           1\n",
              "\n",
              "[5 rows x 14 columns]"
            ]
          },
          "metadata": {
            "tags": []
          },
          "execution_count": 12
        }
      ]
    },
    {
      "cell_type": "code",
      "metadata": {
        "id": "11_8EGgfrv-s",
        "colab_type": "code",
        "colab": {
          "base_uri": "https://localhost:8080/",
          "height": 355
        },
        "outputId": "ac09ea16-772f-4f2a-f3ae-b5edaba657a1"
      },
      "source": [
        "df.info()"
      ],
      "execution_count": 91,
      "outputs": [
        {
          "output_type": "stream",
          "text": [
            "<class 'pandas.core.frame.DataFrame'>\n",
            "RangeIndex: 5000 entries, 0 to 4999\n",
            "Data columns (total 14 columns):\n",
            "ID                    5000 non-null int64\n",
            "Age                   5000 non-null int64\n",
            "Experience            5000 non-null int64\n",
            "Income                5000 non-null int64\n",
            "ZIP Code              5000 non-null int64\n",
            "Family                5000 non-null int64\n",
            "CCAvg                 5000 non-null float64\n",
            "Education             5000 non-null int64\n",
            "Mortgage              5000 non-null int64\n",
            "Personal Loan         5000 non-null int64\n",
            "Securities Account    5000 non-null int64\n",
            "CD Account            5000 non-null int64\n",
            "Online                5000 non-null int64\n",
            "CreditCard            5000 non-null int64\n",
            "dtypes: float64(1), int64(13)\n",
            "memory usage: 547.0 KB\n"
          ],
          "name": "stdout"
        }
      ]
    },
    {
      "cell_type": "code",
      "metadata": {
        "id": "-El2rUSUPtd3",
        "colab_type": "code",
        "colab": {
          "base_uri": "https://localhost:8080/",
          "height": 142
        },
        "outputId": "9defd3c1-791c-408e-c3ab-13e74f177296"
      },
      "source": [
        "pd.pivot_table(df[['Online', 'CreditCard', 'Personal Loan']],index=['Online'], values=['CreditCard', 'Personal Loan'], aggfunc='sum')"
      ],
      "execution_count": 22,
      "outputs": [
        {
          "output_type": "execute_result",
          "data": {
            "text/html": [
              "<div>\n",
              "<style scoped>\n",
              "    .dataframe tbody tr th:only-of-type {\n",
              "        vertical-align: middle;\n",
              "    }\n",
              "\n",
              "    .dataframe tbody tr th {\n",
              "        vertical-align: top;\n",
              "    }\n",
              "\n",
              "    .dataframe thead th {\n",
              "        text-align: right;\n",
              "    }\n",
              "</style>\n",
              "<table border=\"1\" class=\"dataframe\">\n",
              "  <thead>\n",
              "    <tr style=\"text-align: right;\">\n",
              "      <th></th>\n",
              "      <th>CreditCard</th>\n",
              "      <th>Personal Loan</th>\n",
              "    </tr>\n",
              "    <tr>\n",
              "      <th>Online</th>\n",
              "      <th></th>\n",
              "      <th></th>\n",
              "    </tr>\n",
              "  </thead>\n",
              "  <tbody>\n",
              "    <tr>\n",
              "      <th>0</th>\n",
              "      <td>588</td>\n",
              "      <td>189</td>\n",
              "    </tr>\n",
              "    <tr>\n",
              "      <th>1</th>\n",
              "      <td>882</td>\n",
              "      <td>291</td>\n",
              "    </tr>\n",
              "  </tbody>\n",
              "</table>\n",
              "</div>"
            ],
            "text/plain": [
              "        CreditCard  Personal Loan\n",
              "Online                           \n",
              "0              588            189\n",
              "1              882            291"
            ]
          },
          "metadata": {
            "tags": []
          },
          "execution_count": 22
        }
      ]
    },
    {
      "cell_type": "code",
      "metadata": {
        "id": "xRAjkFsjcch5",
        "colab_type": "code",
        "colab": {
          "base_uri": "https://localhost:8080/",
          "height": 159
        },
        "outputId": "63648981-591a-49d8-fc16-d59a8d11b0af"
      },
      "source": [
        "print(df[(df['Online']==0) & (df['CreditCard']==1)]['CreditCard'].value_counts())\n",
        "print(df[(df['Online']==1) & (df['CreditCard']==1)]['CreditCard'].value_counts())\n",
        "print(df[(df['Online']==0) & (df['Personal Loan']==1)]['Personal Loan'].value_counts())\n",
        "print(df[(df['Online']==1) & (df['Personal Loan']==1)]['Personal Loan'].value_counts())"
      ],
      "execution_count": 49,
      "outputs": [
        {
          "output_type": "stream",
          "text": [
            "1    588\n",
            "Name: CreditCard, dtype: int64\n",
            "1    882\n",
            "Name: CreditCard, dtype: int64\n",
            "1    189\n",
            "Name: Personal Loan, dtype: int64\n",
            "1    291\n",
            "Name: Personal Loan, dtype: int64\n"
          ],
          "name": "stdout"
        }
      ]
    },
    {
      "cell_type": "code",
      "metadata": {
        "id": "qgXufkIHsk2G",
        "colab_type": "code",
        "colab": {
          "base_uri": "https://localhost:8080/",
          "height": 53
        },
        "outputId": "f67efbf0-f381-4ee9-fabf-26602ce47cde"
      },
      "source": [
        "print(len(df[df['Online']==1]))\n",
        "print(len(df[df['CreditCard']==1]))"
      ],
      "execution_count": 98,
      "outputs": [
        {
          "output_type": "stream",
          "text": [
            "2984\n",
            "1470\n"
          ],
          "name": "stdout"
        }
      ]
    },
    {
      "cell_type": "code",
      "metadata": {
        "id": "rJtSA9l7agQT",
        "colab_type": "code",
        "colab": {
          "base_uri": "https://localhost:8080/",
          "height": 106
        },
        "outputId": "06eb03c8-9fe4-4d02-ab89-58124e6cb431"
      },
      "source": [
        "'''8.1(a)\n",
        "'''\n",
        "pd.set_option('display.max_rows', 100)\n",
        "import numpy as np\n",
        "\n",
        "# print(pd.melt(df, id_vars=[\"Online\"], value_vars=['CreditCard', 'Personal Loan']))\n",
        "\n",
        "df_melt = pd.melt(df[['Online', 'CreditCard', 'Personal Loan']], id_vars=['Online'], var_name=\"Attribute\", value_name=\"Value\").sort_values(by='Online')\n",
        "print(pd.pivot_table(df_melt, index=['Attribute'], columns=['Online'], values=['Value'], aggfunc=sum))\n"
      ],
      "execution_count": 104,
      "outputs": [
        {
          "output_type": "stream",
          "text": [
            "              Value     \n",
            "Online            0    1\n",
            "Attribute               \n",
            "CreditCard      588  882\n",
            "Personal Loan   189  291\n"
          ],
          "name": "stdout"
        }
      ]
    },
    {
      "cell_type": "code",
      "metadata": {
        "id": "Po0o7JE_tWyI",
        "colab_type": "code",
        "colab": {
          "base_uri": "https://localhost:8080/",
          "height": 106
        },
        "outputId": "9e8e359d-5bf2-4a9b-d573-c6ef116e940f"
      },
      "source": [
        "df_melt = pd.melt(df[['Personal Loan', 'CreditCard', 'Online']], id_vars=['Personal Loan'], var_name=\"Attribute\", value_name=\"Value\").sort_values(by='Personal Loan')\n",
        "print(pd.pivot_table(df_melt, index=['Attribute'], columns=['Personal Loan'], values=['Value'], aggfunc=sum))"
      ],
      "execution_count": 108,
      "outputs": [
        {
          "output_type": "stream",
          "text": [
            "              Value     \n",
            "Personal Loan     0    1\n",
            "Attribute               \n",
            "CreditCard     1327  143\n",
            "Online         2693  291\n"
          ],
          "name": "stdout"
        }
      ]
    },
    {
      "cell_type": "code",
      "metadata": {
        "id": "IoPooRAfvawv",
        "colab_type": "code",
        "colab": {
          "base_uri": "https://localhost:8080/",
          "height": 35
        },
        "outputId": "c856a9cf-ab1f-4ab6-b621-de32226224a0"
      },
      "source": [
        "'''8.1(b)\n",
        "'''\n",
        "(143/ (143+291 )) * (291/ (143+291 )) * (143+291)/(1327+2693+143+291)"
      ],
      "execution_count": 109,
      "outputs": [
        {
          "output_type": "execute_result",
          "data": {
            "text/plain": [
              "0.02152727626386679"
            ]
          },
          "metadata": {
            "tags": []
          },
          "execution_count": 109
        }
      ]
    },
    {
      "cell_type": "code",
      "metadata": {
        "id": "ongkoSeQZc2w",
        "colab_type": "code",
        "colab": {
          "base_uri": "https://localhost:8080/",
          "height": 195
        },
        "outputId": "1c910531-a36b-431b-9f7e-9583f5ae0cd4"
      },
      "source": [
        "'''8.1(c)\n",
        "'''\n",
        "predictors = ['CreditCard', 'Online']\n",
        "for predictor in predictors:\n",
        "    # construct the frequency table\n",
        "    freqTable = df[['Personal Loan', predictor]].pivot_table(index='Personal Loan', columns=predictor, aggfunc=len)\n",
        "    print(freqTable)\n",
        "    print()"
      ],
      "execution_count": 111,
      "outputs": [
        {
          "output_type": "stream",
          "text": [
            "CreditCard        0     1\n",
            "Personal Loan            \n",
            "0              3193  1327\n",
            "1               337   143\n",
            "\n",
            "Online            0     1\n",
            "Personal Loan            \n",
            "0              1827  2693\n",
            "1               189   291\n",
            "\n"
          ],
          "name": "stdout"
        }
      ]
    },
    {
      "cell_type": "code",
      "metadata": {
        "id": "UjY2DisSwyNl",
        "colab_type": "code",
        "colab": {
          "base_uri": "https://localhost:8080/",
          "height": 195
        },
        "outputId": "03508e9c-7808-4a22-91e0-68a742e3258a"
      },
      "source": [
        "'''8.1(d)\n",
        "'''\n",
        "predictors = ['CreditCard', 'Online']\n",
        "for predictor in predictors:\n",
        "    # construct the frequency table\n",
        "    freqTable = df[['Personal Loan', predictor]].pivot_table(index='Personal Loan', columns=predictor, aggfunc=len)\n",
        "    # print(freqTable)\n",
        "    # divide each row by the sum of the row to get conditional probabilities\n",
        "    propTable = freqTable.apply(lambda x: x / sum(x), axis=1)\n",
        "    print(propTable)\n",
        "    print()"
      ],
      "execution_count": 112,
      "outputs": [
        {
          "output_type": "stream",
          "text": [
            "CreditCard            0         1\n",
            "Personal Loan                    \n",
            "0              0.706416  0.293584\n",
            "1              0.702083  0.297917\n",
            "\n",
            "Online                0         1\n",
            "Personal Loan                    \n",
            "0              0.404204  0.595796\n",
            "1              0.393750  0.606250\n",
            "\n"
          ],
          "name": "stdout"
        }
      ]
    },
    {
      "cell_type": "code",
      "metadata": {
        "id": "tSgaCiTAxY1L",
        "colab_type": "code",
        "colab": {
          "base_uri": "https://localhost:8080/",
          "height": 35
        },
        "outputId": "78866617-b5ea-409c-8a50-02aae0b0aa42"
      },
      "source": [
        "print(len(df[df['Personal Loan']==1])/len(df))"
      ],
      "execution_count": 113,
      "outputs": [
        {
          "output_type": "stream",
          "text": [
            "0.096\n"
          ],
          "name": "stdout"
        }
      ]
    },
    {
      "cell_type": "code",
      "metadata": {
        "id": "KnHjJF4Hx6_H",
        "colab_type": "code",
        "colab": {
          "base_uri": "https://localhost:8080/",
          "height": 35
        },
        "outputId": "14c9bf1b-87c8-430f-97e4-9fb648a00887"
      },
      "source": [
        "print(len(df[df['Personal Loan']==0])/len(df))"
      ],
      "execution_count": 114,
      "outputs": [
        {
          "output_type": "stream",
          "text": [
            "0.904\n"
          ],
          "name": "stdout"
        }
      ]
    },
    {
      "cell_type": "code",
      "metadata": {
        "id": "Wv_F6qDqx_GK",
        "colab_type": "code",
        "colab": {
          "base_uri": "https://localhost:8080/",
          "height": 35
        },
        "outputId": "e7177bb4-72aa-42ed-f659-5c9b8ef341fd"
      },
      "source": [
        "'''8.1(e)\n",
        "'''\n",
        "# P(CC=1|L=1)*P*(OL=1|L=1)*P(L=1)\n",
        "0.297917*0.606250*0.096"
      ],
      "execution_count": 115,
      "outputs": [
        {
          "output_type": "execute_result",
          "data": {
            "text/plain": [
              "0.0173387694"
            ]
          },
          "metadata": {
            "tags": []
          },
          "execution_count": 115
        }
      ]
    },
    {
      "cell_type": "code",
      "metadata": {
        "id": "8qLwXyVcxrjn",
        "colab_type": "code",
        "colab": {}
      },
      "source": [
        "'''8.1(f)\n",
        "'''\n",
        "# 0.02152727626386679 vs. 0.0173387694"
      ],
      "execution_count": 0,
      "outputs": []
    },
    {
      "cell_type": "code",
      "metadata": {
        "id": "lpSM3usOzVho",
        "colab_type": "code",
        "colab": {}
      },
      "source": [
        "'''8.1(g)\n",
        "'''\n",
        "predictors = ['CreditCard', 'Online']\n",
        "outcome = 'Personal Loan'\n",
        "\n",
        "X = pd.get_dummies(df[predictors])\n",
        "y = (df[outcome] == 1).astype(int)\n",
        "classes = [1, 0]\n",
        "\n",
        "# split into training and validation\n",
        "X_train, X_valid, y_train, y_valid = train_test_split(X, y, test_size=0.40, random_state=1)\n",
        "\n",
        "# run naive Bayes\n",
        "delays_nb = MultinomialNB(alpha=0.01)\n",
        "delays_nb.fit(X_train, y_train)\n",
        "\n",
        "# predict probabilities\n",
        "predProb_train = delays_nb.predict_proba(X_train)\n",
        "predProb_valid = delays_nb.predict_proba(X_valid)\n",
        "\n",
        "# predict class membership\n",
        "y_valid_pred = delays_nb.predict(X_valid)\n",
        "y_train_pred = delays_nb.predict(X_train)"
      ],
      "execution_count": 0,
      "outputs": []
    },
    {
      "cell_type": "code",
      "metadata": {
        "id": "aWiqVENKzzVV",
        "colab_type": "code",
        "colab": {
          "base_uri": "https://localhost:8080/",
          "height": 266
        },
        "outputId": "fac2a00c-82ea-4241-e27f-65c1eef1ef1c"
      },
      "source": [
        "# split the original data frame into a train and test using the same random_state\n",
        "train_df, valid_df = train_test_split(df, test_size=0.4, random_state=1)\n",
        "\n",
        "pd.set_option('precision', 4)\n",
        "# probability of flight status\n",
        "print(df['Personal Loan'].value_counts() / len(train_df))\n",
        "print()\n",
        "\n",
        "for predictor in predictors:\n",
        "    # construct the frequency table\n",
        "    df = train_df[['Personal Loan', predictor]]\n",
        "    freqTable = df.pivot_table(index='Personal Loan', columns=predictor, aggfunc=len)\n",
        "\n",
        "    # divide each row by the sum of the row to get conditional probabilities\n",
        "    propTable = freqTable.apply(lambda x: x / sum(x), axis=1)\n",
        "    print(propTable)\n",
        "    print()\n",
        "pd.reset_option('precision')"
      ],
      "execution_count": 118,
      "outputs": [
        {
          "output_type": "stream",
          "text": [
            "0    1.5067\n",
            "1    0.1600\n",
            "Name: Personal Loan, dtype: float64\n",
            "\n",
            "CreditCard          0       1\n",
            "Personal Loan                \n",
            "0              0.7036  0.2964\n",
            "1              0.6934  0.3066\n",
            "\n",
            "Online              0       1\n",
            "Personal Loan                \n",
            "0              0.4125  0.5875\n",
            "1              0.3902  0.6098\n",
            "\n"
          ],
          "name": "stdout"
        }
      ]
    },
    {
      "cell_type": "code",
      "metadata": {
        "id": "hHMKP8RW0IW8",
        "colab_type": "code",
        "colab": {}
      },
      "source": [
        "# # P(delayed | Carrier = DL, Day_Week = 7, Dep_Time = 10, Dest = LGA, Origin = DCA)\n",
        "# P_hat_delayed = 0.0958 * 0.1609 * 0.0307 * 0.4215 * 0.5211 * 0.1977\n",
        "# # P(ontime | Carrier = DL, Day_Week = 7, Dep_Time = 10, Dest = LGA, Origin = DCA)\n",
        "# P_hat_ontime = 0.2040 * 0.1048 * 0.0519 * 0.5779 * 0.6478 * 0.8023\n",
        "# print('P_hat_delayed ~ ', P_hat_delayed)\n",
        "# print('P_hat_ontime ~ ', P_hat_ontime)\n",
        "\n",
        "# print('P(delayed|...) = ', P_hat_delayed / (P_hat_delayed + P_hat_ontime))\n",
        "# print('P(ontime|...) = ', P_hat_ontime / (P_hat_delayed + P_hat_ontime))"
      ],
      "execution_count": 0,
      "outputs": []
    },
    {
      "cell_type": "code",
      "metadata": {
        "id": "X6nj7w3S0Nq2",
        "colab_type": "code",
        "colab": {
          "base_uri": "https://localhost:8080/",
          "height": 266
        },
        "outputId": "b5e78f07-24c9-4e34-df88-b6ffa6676ce2"
      },
      "source": [
        "# Subset a specific set\n",
        "df = pd.concat([pd.DataFrame({'actual': y_valid, 'predicted': y_valid_pred}),\n",
        "                pd.DataFrame(predProb_valid, index=y_valid.index)], axis=1)\n",
        "mask = ((X_valid.CreditCard == 1) & (X_valid.Online == 1))\n",
        "\n",
        "print(df[mask])"
      ],
      "execution_count": 122,
      "outputs": [
        {
          "output_type": "stream",
          "text": [
            "      actual  predicted         0         1\n",
            "932        0          0  0.904419  0.095581\n",
            "1132       0          0  0.904419  0.095581\n",
            "3289       0          0  0.904419  0.095581\n",
            "348        1          0  0.904419  0.095581\n",
            "2971       0          0  0.904419  0.095581\n",
            "...      ...        ...       ...       ...\n",
            "4705       1          0  0.904419  0.095581\n",
            "2429       0          0  0.904419  0.095581\n",
            "2684       0          0  0.904419  0.095581\n",
            "3401       0          0  0.904419  0.095581\n",
            "1239       0          0  0.904419  0.095581\n",
            "\n",
            "[356 rows x 4 columns]\n"
          ],
          "name": "stdout"
        }
      ]
    },
    {
      "cell_type": "code",
      "metadata": {
        "id": "vUsjbwFJ0lWD",
        "colab_type": "code",
        "colab": {
          "base_uri": "https://localhost:8080/",
          "height": 248
        },
        "outputId": "5ccff684-3bbe-41b2-f7c1-0da5caece470"
      },
      "source": [
        "classificationSummary(y_train, y_train_pred, class_names=classes) \n",
        "\n",
        "print()\n",
        "\n",
        "classificationSummary(y_valid, y_valid_pred, class_names=classes) "
      ],
      "execution_count": 123,
      "outputs": [
        {
          "output_type": "stream",
          "text": [
            "Confusion Matrix (Accuracy 0.9043)\n",
            "\n",
            "       Prediction\n",
            "Actual    1    0\n",
            "     1 2713    0\n",
            "     0  287    0\n",
            "\n",
            "Confusion Matrix (Accuracy 0.9035)\n",
            "\n",
            "       Prediction\n",
            "Actual    1    0\n",
            "     1 1807    0\n",
            "     0  193    0\n"
          ],
          "name": "stdout"
        }
      ]
    },
    {
      "cell_type": "code",
      "metadata": {
        "id": "oN8R13df1QEa",
        "colab_type": "code",
        "colab": {
          "base_uri": "https://localhost:8080/",
          "height": 420
        },
        "outputId": "90085df5-43d0-4a4f-ea40-43f53a376ee1"
      },
      "source": [
        "df"
      ],
      "execution_count": 131,
      "outputs": [
        {
          "output_type": "execute_result",
          "data": {
            "text/html": [
              "<div>\n",
              "<style scoped>\n",
              "    .dataframe tbody tr th:only-of-type {\n",
              "        vertical-align: middle;\n",
              "    }\n",
              "\n",
              "    .dataframe tbody tr th {\n",
              "        vertical-align: top;\n",
              "    }\n",
              "\n",
              "    .dataframe thead th {\n",
              "        text-align: right;\n",
              "    }\n",
              "</style>\n",
              "<table border=\"1\" class=\"dataframe\">\n",
              "  <thead>\n",
              "    <tr style=\"text-align: right;\">\n",
              "      <th></th>\n",
              "      <th>actual</th>\n",
              "      <th>prob</th>\n",
              "    </tr>\n",
              "  </thead>\n",
              "  <tbody>\n",
              "    <tr>\n",
              "      <th>0</th>\n",
              "      <td>1</td>\n",
              "      <td>0.904506</td>\n",
              "    </tr>\n",
              "    <tr>\n",
              "      <th>1</th>\n",
              "      <td>1</td>\n",
              "      <td>0.904506</td>\n",
              "    </tr>\n",
              "    <tr>\n",
              "      <th>2</th>\n",
              "      <td>1</td>\n",
              "      <td>0.904506</td>\n",
              "    </tr>\n",
              "    <tr>\n",
              "      <th>3</th>\n",
              "      <td>1</td>\n",
              "      <td>0.904506</td>\n",
              "    </tr>\n",
              "    <tr>\n",
              "      <th>4</th>\n",
              "      <td>0</td>\n",
              "      <td>0.904506</td>\n",
              "    </tr>\n",
              "    <tr>\n",
              "      <th>...</th>\n",
              "      <td>...</td>\n",
              "      <td>...</td>\n",
              "    </tr>\n",
              "    <tr>\n",
              "      <th>1995</th>\n",
              "      <td>1</td>\n",
              "      <td>0.904246</td>\n",
              "    </tr>\n",
              "    <tr>\n",
              "      <th>1996</th>\n",
              "      <td>0</td>\n",
              "      <td>0.904246</td>\n",
              "    </tr>\n",
              "    <tr>\n",
              "      <th>1997</th>\n",
              "      <td>1</td>\n",
              "      <td>0.904246</td>\n",
              "    </tr>\n",
              "    <tr>\n",
              "      <th>1998</th>\n",
              "      <td>1</td>\n",
              "      <td>0.904246</td>\n",
              "    </tr>\n",
              "    <tr>\n",
              "      <th>1999</th>\n",
              "      <td>1</td>\n",
              "      <td>0.904246</td>\n",
              "    </tr>\n",
              "  </tbody>\n",
              "</table>\n",
              "<p>2000 rows × 2 columns</p>\n",
              "</div>"
            ],
            "text/plain": [
              "      actual      prob\n",
              "0          1  0.904506\n",
              "1          1  0.904506\n",
              "2          1  0.904506\n",
              "3          1  0.904506\n",
              "4          0  0.904506\n",
              "...      ...       ...\n",
              "1995       1  0.904246\n",
              "1996       0  0.904246\n",
              "1997       1  0.904246\n",
              "1998       1  0.904246\n",
              "1999       1  0.904246\n",
              "\n",
              "[2000 rows x 2 columns]"
            ]
          },
          "metadata": {
            "tags": []
          },
          "execution_count": 131
        }
      ]
    },
    {
      "cell_type": "code",
      "metadata": {
        "id": "4lYEa2ii2A0f",
        "colab_type": "code",
        "colab": {
          "base_uri": "https://localhost:8080/",
          "height": 420
        },
        "outputId": "333c3488-8e05-4522-a128-8a8c861ec499"
      },
      "source": [
        "df = pd.DataFrame({'actual': 1 - y_valid, 'prob': predProb_valid[:, 0]})\n",
        "df.sort_values(by=['prob'], ascending=False).reset_index(drop=True)"
      ],
      "execution_count": 144,
      "outputs": [
        {
          "output_type": "execute_result",
          "data": {
            "text/html": [
              "<div>\n",
              "<style scoped>\n",
              "    .dataframe tbody tr th:only-of-type {\n",
              "        vertical-align: middle;\n",
              "    }\n",
              "\n",
              "    .dataframe tbody tr th {\n",
              "        vertical-align: top;\n",
              "    }\n",
              "\n",
              "    .dataframe thead th {\n",
              "        text-align: right;\n",
              "    }\n",
              "</style>\n",
              "<table border=\"1\" class=\"dataframe\">\n",
              "  <thead>\n",
              "    <tr style=\"text-align: right;\">\n",
              "      <th></th>\n",
              "      <th>actual</th>\n",
              "      <th>prob</th>\n",
              "    </tr>\n",
              "  </thead>\n",
              "  <tbody>\n",
              "    <tr>\n",
              "      <th>0</th>\n",
              "      <td>1</td>\n",
              "      <td>0.904506</td>\n",
              "    </tr>\n",
              "    <tr>\n",
              "      <th>1</th>\n",
              "      <td>1</td>\n",
              "      <td>0.904506</td>\n",
              "    </tr>\n",
              "    <tr>\n",
              "      <th>2</th>\n",
              "      <td>1</td>\n",
              "      <td>0.904506</td>\n",
              "    </tr>\n",
              "    <tr>\n",
              "      <th>3</th>\n",
              "      <td>1</td>\n",
              "      <td>0.904506</td>\n",
              "    </tr>\n",
              "    <tr>\n",
              "      <th>4</th>\n",
              "      <td>0</td>\n",
              "      <td>0.904506</td>\n",
              "    </tr>\n",
              "    <tr>\n",
              "      <th>...</th>\n",
              "      <td>...</td>\n",
              "      <td>...</td>\n",
              "    </tr>\n",
              "    <tr>\n",
              "      <th>1995</th>\n",
              "      <td>1</td>\n",
              "      <td>0.904246</td>\n",
              "    </tr>\n",
              "    <tr>\n",
              "      <th>1996</th>\n",
              "      <td>0</td>\n",
              "      <td>0.904246</td>\n",
              "    </tr>\n",
              "    <tr>\n",
              "      <th>1997</th>\n",
              "      <td>1</td>\n",
              "      <td>0.904246</td>\n",
              "    </tr>\n",
              "    <tr>\n",
              "      <th>1998</th>\n",
              "      <td>1</td>\n",
              "      <td>0.904246</td>\n",
              "    </tr>\n",
              "    <tr>\n",
              "      <th>1999</th>\n",
              "      <td>1</td>\n",
              "      <td>0.904246</td>\n",
              "    </tr>\n",
              "  </tbody>\n",
              "</table>\n",
              "<p>2000 rows × 2 columns</p>\n",
              "</div>"
            ],
            "text/plain": [
              "      actual      prob\n",
              "0          1  0.904506\n",
              "1          1  0.904506\n",
              "2          1  0.904506\n",
              "3          1  0.904506\n",
              "4          0  0.904506\n",
              "...      ...       ...\n",
              "1995       1  0.904246\n",
              "1996       0  0.904246\n",
              "1997       1  0.904246\n",
              "1998       1  0.904246\n",
              "1999       1  0.904246\n",
              "\n",
              "[2000 rows x 2 columns]"
            ]
          },
          "metadata": {
            "tags": []
          },
          "execution_count": 144
        }
      ]
    },
    {
      "cell_type": "code",
      "metadata": {
        "id": "RTbyWiPG1GWW",
        "colab_type": "code",
        "colab": {}
      },
      "source": [
        "import sys\n",
        "import matplotlib\n",
        "\n",
        "# print (plt.get_backend())\n",
        "# import matplotlib.pyplot as plt\n",
        "# matplotlib.rcParams['backend'] = 'TkAgg' \n",
        "\n",
        "df = pd.DataFrame({'actual': 1 - y_valid, 'prob': predProb_valid[:, 0]})\n",
        "df = df.sort_values(by=['prob'], ascending=False).reset_index(drop=True)\n",
        "\n",
        "fig, ax = plt.subplots()\n",
        "fig.set_size_inches(4, 4)\n",
        "gainsChart(df.actual, ax=ax)\n",
        "\n",
        "plt.tight_layout()\n",
        "plt.show()"
      ],
      "execution_count": 0,
      "outputs": []
    },
    {
      "cell_type": "markdown",
      "metadata": {
        "id": "QgzdOuFTOSW0",
        "colab_type": "text"
      },
      "source": [
        "## Table 8.4"
      ]
    },
    {
      "cell_type": "code",
      "metadata": {
        "id": "FyXLWivsOSW1",
        "colab_type": "code",
        "outputId": "dba33f04-330b-4abb-ce9a-2c961e0272f3",
        "colab": {}
      },
      "source": [
        "delays_df = pd.read_csv('FlightDelays.csv')\n",
        "delays_df.head()"
      ],
      "execution_count": 0,
      "outputs": [
        {
          "output_type": "execute_result",
          "data": {
            "text/html": [
              "<div>\n",
              "<style scoped>\n",
              "    .dataframe tbody tr th:only-of-type {\n",
              "        vertical-align: middle;\n",
              "    }\n",
              "\n",
              "    .dataframe tbody tr th {\n",
              "        vertical-align: top;\n",
              "    }\n",
              "\n",
              "    .dataframe thead th {\n",
              "        text-align: right;\n",
              "    }\n",
              "</style>\n",
              "<table border=\"1\" class=\"dataframe\">\n",
              "  <thead>\n",
              "    <tr style=\"text-align: right;\">\n",
              "      <th></th>\n",
              "      <th>CRS_DEP_TIME</th>\n",
              "      <th>CARRIER</th>\n",
              "      <th>DEP_TIME</th>\n",
              "      <th>DEST</th>\n",
              "      <th>DISTANCE</th>\n",
              "      <th>FL_DATE</th>\n",
              "      <th>FL_NUM</th>\n",
              "      <th>ORIGIN</th>\n",
              "      <th>Weather</th>\n",
              "      <th>DAY_WEEK</th>\n",
              "      <th>DAY_OF_MONTH</th>\n",
              "      <th>TAIL_NUM</th>\n",
              "      <th>Flight Status</th>\n",
              "    </tr>\n",
              "  </thead>\n",
              "  <tbody>\n",
              "    <tr>\n",
              "      <th>0</th>\n",
              "      <td>1455</td>\n",
              "      <td>OH</td>\n",
              "      <td>1455</td>\n",
              "      <td>JFK</td>\n",
              "      <td>184</td>\n",
              "      <td>01/01/2004</td>\n",
              "      <td>5935</td>\n",
              "      <td>BWI</td>\n",
              "      <td>0</td>\n",
              "      <td>4</td>\n",
              "      <td>1</td>\n",
              "      <td>N940CA</td>\n",
              "      <td>ontime</td>\n",
              "    </tr>\n",
              "    <tr>\n",
              "      <th>1</th>\n",
              "      <td>1640</td>\n",
              "      <td>DH</td>\n",
              "      <td>1640</td>\n",
              "      <td>JFK</td>\n",
              "      <td>213</td>\n",
              "      <td>01/01/2004</td>\n",
              "      <td>6155</td>\n",
              "      <td>DCA</td>\n",
              "      <td>0</td>\n",
              "      <td>4</td>\n",
              "      <td>1</td>\n",
              "      <td>N405FJ</td>\n",
              "      <td>ontime</td>\n",
              "    </tr>\n",
              "    <tr>\n",
              "      <th>2</th>\n",
              "      <td>1245</td>\n",
              "      <td>DH</td>\n",
              "      <td>1245</td>\n",
              "      <td>LGA</td>\n",
              "      <td>229</td>\n",
              "      <td>01/01/2004</td>\n",
              "      <td>7208</td>\n",
              "      <td>IAD</td>\n",
              "      <td>0</td>\n",
              "      <td>4</td>\n",
              "      <td>1</td>\n",
              "      <td>N695BR</td>\n",
              "      <td>ontime</td>\n",
              "    </tr>\n",
              "    <tr>\n",
              "      <th>3</th>\n",
              "      <td>1715</td>\n",
              "      <td>DH</td>\n",
              "      <td>1709</td>\n",
              "      <td>LGA</td>\n",
              "      <td>229</td>\n",
              "      <td>01/01/2004</td>\n",
              "      <td>7215</td>\n",
              "      <td>IAD</td>\n",
              "      <td>0</td>\n",
              "      <td>4</td>\n",
              "      <td>1</td>\n",
              "      <td>N662BR</td>\n",
              "      <td>ontime</td>\n",
              "    </tr>\n",
              "    <tr>\n",
              "      <th>4</th>\n",
              "      <td>1039</td>\n",
              "      <td>DH</td>\n",
              "      <td>1035</td>\n",
              "      <td>LGA</td>\n",
              "      <td>229</td>\n",
              "      <td>01/01/2004</td>\n",
              "      <td>7792</td>\n",
              "      <td>IAD</td>\n",
              "      <td>0</td>\n",
              "      <td>4</td>\n",
              "      <td>1</td>\n",
              "      <td>N698BR</td>\n",
              "      <td>ontime</td>\n",
              "    </tr>\n",
              "  </tbody>\n",
              "</table>\n",
              "</div>"
            ],
            "text/plain": [
              "   CRS_DEP_TIME CARRIER  DEP_TIME DEST  DISTANCE     FL_DATE  FL_NUM ORIGIN  \\\n",
              "0          1455      OH      1455  JFK       184  01/01/2004    5935    BWI   \n",
              "1          1640      DH      1640  JFK       213  01/01/2004    6155    DCA   \n",
              "2          1245      DH      1245  LGA       229  01/01/2004    7208    IAD   \n",
              "3          1715      DH      1709  LGA       229  01/01/2004    7215    IAD   \n",
              "4          1039      DH      1035  LGA       229  01/01/2004    7792    IAD   \n",
              "\n",
              "   Weather  DAY_WEEK  DAY_OF_MONTH TAIL_NUM Flight Status  \n",
              "0        0         4             1   N940CA        ontime  \n",
              "1        0         4             1   N405FJ        ontime  \n",
              "2        0         4             1   N695BR        ontime  \n",
              "3        0         4             1   N662BR        ontime  \n",
              "4        0         4             1   N698BR        ontime  "
            ]
          },
          "metadata": {
            "tags": []
          },
          "execution_count": 2
        }
      ]
    },
    {
      "cell_type": "code",
      "metadata": {
        "id": "8KIm2SyiOSW5",
        "colab_type": "code",
        "colab": {
          "base_uri": "https://localhost:8080/",
          "height": 460
        },
        "outputId": "816517a7-9f48-4abe-9304-19becd94fd09"
      },
      "source": [
        "delays_df = pd.read_csv('FlightDelays.csv')\n",
        "\n",
        "# convert to categorical\n",
        "delays_df.DAY_WEEK = delays_df.DAY_WEEK.astype('category')\n",
        "\n",
        "# create hourly bins departure time \n",
        "delays_df.CRS_DEP_TIME = [round(t / 100) for t in delays_df.CRS_DEP_TIME]\n",
        "delays_df.CRS_DEP_TIME = delays_df.CRS_DEP_TIME.astype('category')\n",
        "\n",
        "predictors = ['DAY_WEEK', 'CRS_DEP_TIME', 'ORIGIN', 'DEST', 'CARRIER']\n",
        "outcome = 'Flight Status'\n",
        "\n",
        "X = pd.get_dummies(delays_df[predictors])\n",
        "y = (delays_df[outcome] == 'delayed').astype(int)\n",
        "classes = ['ontime', 'delayed']\n",
        "\n",
        "# split into training and validation\n",
        "X_train, X_valid, y_train, y_valid = train_test_split(X, y, test_size=0.40, random_state=1)\n",
        "\n",
        "# run naive Bayes\n",
        "delays_nb = MultinomialNB(alpha=0.01)\n",
        "delays_nb.fit(X_train, y_train)\n",
        "\n",
        "# predict probabilities\n",
        "predProb_train = delays_nb.predict_proba(X_train)\n",
        "predProb_valid = delays_nb.predict_proba(X_valid)\n",
        "\n",
        "# predict class membership\n",
        "y_valid_pred = delays_nb.predict(X_valid)\n",
        "y_train_pred = delays_nb.predict(X_train)"
      ],
      "execution_count": 13,
      "outputs": [
        {
          "output_type": "error",
          "ename": "FileNotFoundError",
          "evalue": "ignored",
          "traceback": [
            "\u001b[0;31m---------------------------------------------------------------------------\u001b[0m",
            "\u001b[0;31mFileNotFoundError\u001b[0m                         Traceback (most recent call last)",
            "\u001b[0;32m<ipython-input-13-d1f4a5e57fd4>\u001b[0m in \u001b[0;36m<module>\u001b[0;34m()\u001b[0m\n\u001b[0;32m----> 1\u001b[0;31m \u001b[0mdelays_df\u001b[0m \u001b[0;34m=\u001b[0m \u001b[0mpd\u001b[0m\u001b[0;34m.\u001b[0m\u001b[0mread_csv\u001b[0m\u001b[0;34m(\u001b[0m\u001b[0;34m'FlightDelays.csv'\u001b[0m\u001b[0;34m)\u001b[0m\u001b[0;34m\u001b[0m\u001b[0;34m\u001b[0m\u001b[0m\n\u001b[0m\u001b[1;32m      2\u001b[0m \u001b[0;34m\u001b[0m\u001b[0m\n\u001b[1;32m      3\u001b[0m \u001b[0;31m# convert to categorical\u001b[0m\u001b[0;34m\u001b[0m\u001b[0;34m\u001b[0m\u001b[0;34m\u001b[0m\u001b[0m\n\u001b[1;32m      4\u001b[0m \u001b[0mdelays_df\u001b[0m\u001b[0;34m.\u001b[0m\u001b[0mDAY_WEEK\u001b[0m \u001b[0;34m=\u001b[0m \u001b[0mdelays_df\u001b[0m\u001b[0;34m.\u001b[0m\u001b[0mDAY_WEEK\u001b[0m\u001b[0;34m.\u001b[0m\u001b[0mastype\u001b[0m\u001b[0;34m(\u001b[0m\u001b[0;34m'category'\u001b[0m\u001b[0;34m)\u001b[0m\u001b[0;34m\u001b[0m\u001b[0;34m\u001b[0m\u001b[0m\n\u001b[1;32m      5\u001b[0m \u001b[0;34m\u001b[0m\u001b[0m\n",
            "\u001b[0;32m/usr/local/lib/python3.6/dist-packages/pandas/io/parsers.py\u001b[0m in \u001b[0;36mparser_f\u001b[0;34m(filepath_or_buffer, sep, delimiter, header, names, index_col, usecols, squeeze, prefix, mangle_dupe_cols, dtype, engine, converters, true_values, false_values, skipinitialspace, skiprows, skipfooter, nrows, na_values, keep_default_na, na_filter, verbose, skip_blank_lines, parse_dates, infer_datetime_format, keep_date_col, date_parser, dayfirst, cache_dates, iterator, chunksize, compression, thousands, decimal, lineterminator, quotechar, quoting, doublequote, escapechar, comment, encoding, dialect, error_bad_lines, warn_bad_lines, delim_whitespace, low_memory, memory_map, float_precision)\u001b[0m\n\u001b[1;32m    683\u001b[0m         )\n\u001b[1;32m    684\u001b[0m \u001b[0;34m\u001b[0m\u001b[0m\n\u001b[0;32m--> 685\u001b[0;31m         \u001b[0;32mreturn\u001b[0m \u001b[0m_read\u001b[0m\u001b[0;34m(\u001b[0m\u001b[0mfilepath_or_buffer\u001b[0m\u001b[0;34m,\u001b[0m \u001b[0mkwds\u001b[0m\u001b[0;34m)\u001b[0m\u001b[0;34m\u001b[0m\u001b[0;34m\u001b[0m\u001b[0m\n\u001b[0m\u001b[1;32m    686\u001b[0m \u001b[0;34m\u001b[0m\u001b[0m\n\u001b[1;32m    687\u001b[0m     \u001b[0mparser_f\u001b[0m\u001b[0;34m.\u001b[0m\u001b[0m__name__\u001b[0m \u001b[0;34m=\u001b[0m \u001b[0mname\u001b[0m\u001b[0;34m\u001b[0m\u001b[0;34m\u001b[0m\u001b[0m\n",
            "\u001b[0;32m/usr/local/lib/python3.6/dist-packages/pandas/io/parsers.py\u001b[0m in \u001b[0;36m_read\u001b[0;34m(filepath_or_buffer, kwds)\u001b[0m\n\u001b[1;32m    455\u001b[0m \u001b[0;34m\u001b[0m\u001b[0m\n\u001b[1;32m    456\u001b[0m     \u001b[0;31m# Create the parser.\u001b[0m\u001b[0;34m\u001b[0m\u001b[0;34m\u001b[0m\u001b[0;34m\u001b[0m\u001b[0m\n\u001b[0;32m--> 457\u001b[0;31m     \u001b[0mparser\u001b[0m \u001b[0;34m=\u001b[0m \u001b[0mTextFileReader\u001b[0m\u001b[0;34m(\u001b[0m\u001b[0mfp_or_buf\u001b[0m\u001b[0;34m,\u001b[0m \u001b[0;34m**\u001b[0m\u001b[0mkwds\u001b[0m\u001b[0;34m)\u001b[0m\u001b[0;34m\u001b[0m\u001b[0;34m\u001b[0m\u001b[0m\n\u001b[0m\u001b[1;32m    458\u001b[0m \u001b[0;34m\u001b[0m\u001b[0m\n\u001b[1;32m    459\u001b[0m     \u001b[0;32mif\u001b[0m \u001b[0mchunksize\u001b[0m \u001b[0;32mor\u001b[0m \u001b[0miterator\u001b[0m\u001b[0;34m:\u001b[0m\u001b[0;34m\u001b[0m\u001b[0;34m\u001b[0m\u001b[0m\n",
            "\u001b[0;32m/usr/local/lib/python3.6/dist-packages/pandas/io/parsers.py\u001b[0m in \u001b[0;36m__init__\u001b[0;34m(self, f, engine, **kwds)\u001b[0m\n\u001b[1;32m    893\u001b[0m             \u001b[0mself\u001b[0m\u001b[0;34m.\u001b[0m\u001b[0moptions\u001b[0m\u001b[0;34m[\u001b[0m\u001b[0;34m\"has_index_names\"\u001b[0m\u001b[0;34m]\u001b[0m \u001b[0;34m=\u001b[0m \u001b[0mkwds\u001b[0m\u001b[0;34m[\u001b[0m\u001b[0;34m\"has_index_names\"\u001b[0m\u001b[0;34m]\u001b[0m\u001b[0;34m\u001b[0m\u001b[0;34m\u001b[0m\u001b[0m\n\u001b[1;32m    894\u001b[0m \u001b[0;34m\u001b[0m\u001b[0m\n\u001b[0;32m--> 895\u001b[0;31m         \u001b[0mself\u001b[0m\u001b[0;34m.\u001b[0m\u001b[0m_make_engine\u001b[0m\u001b[0;34m(\u001b[0m\u001b[0mself\u001b[0m\u001b[0;34m.\u001b[0m\u001b[0mengine\u001b[0m\u001b[0;34m)\u001b[0m\u001b[0;34m\u001b[0m\u001b[0;34m\u001b[0m\u001b[0m\n\u001b[0m\u001b[1;32m    896\u001b[0m \u001b[0;34m\u001b[0m\u001b[0m\n\u001b[1;32m    897\u001b[0m     \u001b[0;32mdef\u001b[0m \u001b[0mclose\u001b[0m\u001b[0;34m(\u001b[0m\u001b[0mself\u001b[0m\u001b[0;34m)\u001b[0m\u001b[0;34m:\u001b[0m\u001b[0;34m\u001b[0m\u001b[0;34m\u001b[0m\u001b[0m\n",
            "\u001b[0;32m/usr/local/lib/python3.6/dist-packages/pandas/io/parsers.py\u001b[0m in \u001b[0;36m_make_engine\u001b[0;34m(self, engine)\u001b[0m\n\u001b[1;32m   1133\u001b[0m     \u001b[0;32mdef\u001b[0m \u001b[0m_make_engine\u001b[0m\u001b[0;34m(\u001b[0m\u001b[0mself\u001b[0m\u001b[0;34m,\u001b[0m \u001b[0mengine\u001b[0m\u001b[0;34m=\u001b[0m\u001b[0;34m\"c\"\u001b[0m\u001b[0;34m)\u001b[0m\u001b[0;34m:\u001b[0m\u001b[0;34m\u001b[0m\u001b[0;34m\u001b[0m\u001b[0m\n\u001b[1;32m   1134\u001b[0m         \u001b[0;32mif\u001b[0m \u001b[0mengine\u001b[0m \u001b[0;34m==\u001b[0m \u001b[0;34m\"c\"\u001b[0m\u001b[0;34m:\u001b[0m\u001b[0;34m\u001b[0m\u001b[0;34m\u001b[0m\u001b[0m\n\u001b[0;32m-> 1135\u001b[0;31m             \u001b[0mself\u001b[0m\u001b[0;34m.\u001b[0m\u001b[0m_engine\u001b[0m \u001b[0;34m=\u001b[0m \u001b[0mCParserWrapper\u001b[0m\u001b[0;34m(\u001b[0m\u001b[0mself\u001b[0m\u001b[0;34m.\u001b[0m\u001b[0mf\u001b[0m\u001b[0;34m,\u001b[0m \u001b[0;34m**\u001b[0m\u001b[0mself\u001b[0m\u001b[0;34m.\u001b[0m\u001b[0moptions\u001b[0m\u001b[0;34m)\u001b[0m\u001b[0;34m\u001b[0m\u001b[0;34m\u001b[0m\u001b[0m\n\u001b[0m\u001b[1;32m   1136\u001b[0m         \u001b[0;32melse\u001b[0m\u001b[0;34m:\u001b[0m\u001b[0;34m\u001b[0m\u001b[0;34m\u001b[0m\u001b[0m\n\u001b[1;32m   1137\u001b[0m             \u001b[0;32mif\u001b[0m \u001b[0mengine\u001b[0m \u001b[0;34m==\u001b[0m \u001b[0;34m\"python\"\u001b[0m\u001b[0;34m:\u001b[0m\u001b[0;34m\u001b[0m\u001b[0;34m\u001b[0m\u001b[0m\n",
            "\u001b[0;32m/usr/local/lib/python3.6/dist-packages/pandas/io/parsers.py\u001b[0m in \u001b[0;36m__init__\u001b[0;34m(self, src, **kwds)\u001b[0m\n\u001b[1;32m   1915\u001b[0m         \u001b[0mkwds\u001b[0m\u001b[0;34m[\u001b[0m\u001b[0;34m\"usecols\"\u001b[0m\u001b[0;34m]\u001b[0m \u001b[0;34m=\u001b[0m \u001b[0mself\u001b[0m\u001b[0;34m.\u001b[0m\u001b[0musecols\u001b[0m\u001b[0;34m\u001b[0m\u001b[0;34m\u001b[0m\u001b[0m\n\u001b[1;32m   1916\u001b[0m \u001b[0;34m\u001b[0m\u001b[0m\n\u001b[0;32m-> 1917\u001b[0;31m         \u001b[0mself\u001b[0m\u001b[0;34m.\u001b[0m\u001b[0m_reader\u001b[0m \u001b[0;34m=\u001b[0m \u001b[0mparsers\u001b[0m\u001b[0;34m.\u001b[0m\u001b[0mTextReader\u001b[0m\u001b[0;34m(\u001b[0m\u001b[0msrc\u001b[0m\u001b[0;34m,\u001b[0m \u001b[0;34m**\u001b[0m\u001b[0mkwds\u001b[0m\u001b[0;34m)\u001b[0m\u001b[0;34m\u001b[0m\u001b[0;34m\u001b[0m\u001b[0m\n\u001b[0m\u001b[1;32m   1918\u001b[0m         \u001b[0mself\u001b[0m\u001b[0;34m.\u001b[0m\u001b[0munnamed_cols\u001b[0m \u001b[0;34m=\u001b[0m \u001b[0mself\u001b[0m\u001b[0;34m.\u001b[0m\u001b[0m_reader\u001b[0m\u001b[0;34m.\u001b[0m\u001b[0munnamed_cols\u001b[0m\u001b[0;34m\u001b[0m\u001b[0;34m\u001b[0m\u001b[0m\n\u001b[1;32m   1919\u001b[0m \u001b[0;34m\u001b[0m\u001b[0m\n",
            "\u001b[0;32mpandas/_libs/parsers.pyx\u001b[0m in \u001b[0;36mpandas._libs.parsers.TextReader.__cinit__\u001b[0;34m()\u001b[0m\n",
            "\u001b[0;32mpandas/_libs/parsers.pyx\u001b[0m in \u001b[0;36mpandas._libs.parsers.TextReader._setup_parser_source\u001b[0;34m()\u001b[0m\n",
            "\u001b[0;31mFileNotFoundError\u001b[0m: [Errno 2] File b'FlightDelays.csv' does not exist: b'FlightDelays.csv'"
          ]
        }
      ]
    },
    {
      "cell_type": "code",
      "metadata": {
        "id": "gH-hYoqIOSW7",
        "colab_type": "code",
        "colab": {}
      },
      "source": [
        "delays_df = pd.read_csv('FlightDelays.csv')\n",
        "\n",
        "# convert to categorical\n",
        "delays_df.DAY_WEEK = delays_df.DAY_WEEK.astype('category')\n",
        "delays_df['Flight Status'] = delays_df['Flight Status'].astype('category')\n",
        "\n",
        "# create hourly bins departure time \n",
        "delays_df.CRS_DEP_TIME = [round(t / 100) for t in delays_df.CRS_DEP_TIME]\n",
        "delays_df.CRS_DEP_TIME = delays_df.CRS_DEP_TIME.astype('category')\n",
        "\n",
        "predictors = ['DAY_WEEK', 'CRS_DEP_TIME', 'ORIGIN', 'DEST', 'CARRIER']\n",
        "outcome = 'Flight Status'\n",
        "\n",
        "X = pd.get_dummies(delays_df[predictors])\n",
        "y = delays_df['Flight Status']\n",
        "classes = list(y.cat.categories)\n",
        "\n",
        "# split into training and validation\n",
        "X_train, X_valid, y_train, y_valid = train_test_split(X, y, test_size=0.40, random_state=1)\n",
        "\n",
        "# run naive Bayes\n",
        "delays_nb = MultinomialNB(alpha=0.01)\n",
        "delays_nb.fit(X_train, y_train)\n",
        "\n",
        "# predict probabilities\n",
        "predProb_train = delays_nb.predict_proba(X_train)\n",
        "predProb_valid = delays_nb.predict_proba(X_valid)\n",
        "\n",
        "# predict class membership\n",
        "y_valid_pred = delays_nb.predict(X_valid)\n",
        "y_train_pred = delays_nb.predict(X_train)"
      ],
      "execution_count": 0,
      "outputs": []
    },
    {
      "cell_type": "markdown",
      "metadata": {
        "id": "Rl_Ix6ecOSXA",
        "colab_type": "text"
      },
      "source": [
        "## Table 8.5\n",
        "First construct a frequency table and then convert it to the propability table"
      ]
    },
    {
      "cell_type": "code",
      "metadata": {
        "scrolled": false,
        "id": "O5RTh8CvOSXB",
        "colab_type": "code",
        "outputId": "e8b72bac-e63a-401f-ed93-dbc0348ff06a",
        "colab": {}
      },
      "source": [
        "# split the original data frame into a train and test using the same random_state\n",
        "train_df, valid_df = train_test_split(delays_df, test_size=0.4, random_state=1)\n",
        "\n",
        "pd.set_option('precision', 4)\n",
        "# probability of flight status\n",
        "print(train_df['Flight Status'].value_counts() / len(train_df))\n",
        "print()\n",
        "\n",
        "for predictor in predictors:\n",
        "    # construct the frequency table\n",
        "    df = train_df[['Flight Status', predictor]]\n",
        "    freqTable = df.pivot_table(index='Flight Status', columns=predictor, aggfunc=len)\n",
        "\n",
        "    # divide each row by the sum of the row to get conditional probabilities\n",
        "    propTable = freqTable.apply(lambda x: x / sum(x), axis=1)\n",
        "    print(propTable)\n",
        "    print()\n",
        "pd.reset_option('precision')"
      ],
      "execution_count": 0,
      "outputs": [
        {
          "output_type": "stream",
          "text": [
            "ontime     0.8023\n",
            "delayed    0.1977\n",
            "Name: Flight Status, dtype: float64\n",
            "\n",
            "DAY_WEEK            1       2       3       4       5      6       7\n",
            "Flight Status                                                       \n",
            "delayed        0.1916  0.1494  0.1149  0.1264  0.1877  0.069  0.1609\n",
            "ontime         0.1246  0.1416  0.1445  0.1794  0.1690  0.136  0.1048\n",
            "\n",
            "CRS_DEP_TIME       6       7       8       9       10      11      12      13  \\\n",
            "Flight Status                                                                   \n",
            "delayed        0.0345  0.0536  0.0651  0.0192  0.0307  0.0115  0.0498  0.0460   \n",
            "ontime         0.0623  0.0633  0.0850  0.0567  0.0519  0.0340  0.0661  0.0746   \n",
            "\n",
            "CRS_DEP_TIME       14      15      16      17      18      19      20      21  \n",
            "Flight Status                                                                  \n",
            "delayed        0.0383  0.2031  0.0728  0.1533  0.0192  0.0996  0.0153  0.0881  \n",
            "ontime         0.0576  0.1171  0.0774  0.1001  0.0349  0.0397  0.0264  0.0529  \n",
            "\n",
            "ORIGIN            BWI     DCA     IAD\n",
            "Flight Status                        \n",
            "delayed        0.0805  0.5211  0.3985\n",
            "ontime         0.0604  0.6478  0.2918\n",
            "\n",
            "DEST              EWR     JFK     LGA\n",
            "Flight Status                        \n",
            "delayed        0.3793  0.1992  0.4215\n",
            "ontime         0.2663  0.1558  0.5779\n",
            "\n",
            "CARRIER            CO      DH      DL      MQ      OH      RU      UA      US\n",
            "Flight Status                                                                \n",
            "delayed        0.0575  0.3142  0.0958  0.2222  0.0077  0.2184  0.0153  0.0690\n",
            "ontime         0.0349  0.2295  0.2040  0.1171  0.0104  0.1690  0.0170  0.2181\n",
            "\n"
          ],
          "name": "stdout"
        }
      ]
    },
    {
      "cell_type": "code",
      "metadata": {
        "id": "TYo6hfBnOSXF",
        "colab_type": "code",
        "outputId": "887d74b0-c365-4184-a902-e2d4466bb6ab",
        "colab": {}
      },
      "source": [
        "# P(delayed | Carrier = DL, Day_Week = 7, Dep_Time = 10, Dest = LGA, Origin = DCA)\n",
        "P_hat_delayed = 0.0958 * 0.1609 * 0.0307 * 0.4215 * 0.5211 * 0.1977\n",
        "# P(ontime | Carrier = DL, Day_Week = 7, Dep_Time = 10, Dest = LGA, Origin = DCA)\n",
        "P_hat_ontime = 0.2040 * 0.1048 * 0.0519 * 0.5779 * 0.6478 * 0.8023\n",
        "print('P_hat_delayed ~ ', P_hat_delayed)\n",
        "print('P_hat_ontime ~ ', P_hat_ontime)\n",
        "\n",
        "print('P(delayed|...) = ', P_hat_delayed / (P_hat_delayed + P_hat_ontime))\n",
        "print('P(ontime|...) = ', P_hat_ontime / (P_hat_delayed + P_hat_ontime))"
      ],
      "execution_count": 0,
      "outputs": [
        {
          "output_type": "stream",
          "text": [
            "P_hat_delayed ~  2.0548742506526157e-05\n",
            "P_hat_ontime ~  0.00033326464123921066\n",
            "P(delayed|...) =  0.05807791183301656\n",
            "P(ontime|...) =  0.9419220881669834\n"
          ],
          "name": "stdout"
        }
      ]
    },
    {
      "cell_type": "markdown",
      "metadata": {
        "id": "MOtokmKIOSXH",
        "colab_type": "text"
      },
      "source": [
        "## Table 8.6"
      ]
    },
    {
      "cell_type": "code",
      "metadata": {
        "id": "LZ7LN7-HOSXI",
        "colab_type": "code",
        "outputId": "e3d8dda0-6e65-4cbd-9f96-144cca9e4597",
        "colab": {}
      },
      "source": [
        "# Subset a specific set\n",
        "df = pd.concat([pd.DataFrame({'actual': y_valid, 'predicted': y_valid_pred}),\n",
        "                pd.DataFrame(predProb_valid, index=y_valid.index)], axis=1)\n",
        "mask = ((X_valid.CARRIER_DL == 1) & (X_valid.DAY_WEEK_7 == 1) & (X_valid.CRS_DEP_TIME_10 == 1) & \n",
        "        (X_valid.DEST_LGA == 1) & (X_valid.ORIGIN_DCA == 1))\n",
        "\n",
        "print(df[mask])"
      ],
      "execution_count": 0,
      "outputs": [
        {
          "output_type": "stream",
          "text": [
            "      actual predicted         0         1\n",
            "1225  ontime    ontime  0.057989  0.942011\n"
          ],
          "name": "stdout"
        }
      ]
    },
    {
      "cell_type": "markdown",
      "metadata": {
        "id": "AXu3RC9ROSXL",
        "colab_type": "text"
      },
      "source": [
        "## Table 8.7"
      ]
    },
    {
      "cell_type": "code",
      "metadata": {
        "id": "kglcOCdaOSXL",
        "colab_type": "code",
        "outputId": "e4bbc205-be20-414f-bfa1-00e7231b1300",
        "colab": {}
      },
      "source": [
        "classificationSummary(y_train, y_train_pred, class_names=classes) \n",
        "\n",
        "print()\n",
        "\n",
        "classificationSummary(y_valid, y_valid_pred, class_names=classes) "
      ],
      "execution_count": 0,
      "outputs": [
        {
          "output_type": "stream",
          "text": [
            "Confusion Matrix (Accuracy 0.7955)\n",
            "\n",
            "        Prediction\n",
            " Actual delayed  ontime\n",
            "delayed      52     209\n",
            " ontime      61     998\n",
            "\n",
            "Confusion Matrix (Accuracy 0.7821)\n",
            "\n",
            "        Prediction\n",
            " Actual delayed  ontime\n",
            "delayed      26     141\n",
            " ontime      51     663\n"
          ],
          "name": "stdout"
        }
      ]
    },
    {
      "cell_type": "markdown",
      "metadata": {
        "id": "NOxgQ7z3OSXQ",
        "colab_type": "text"
      },
      "source": [
        "## Figure 8.1"
      ]
    },
    {
      "cell_type": "code",
      "metadata": {
        "scrolled": true,
        "id": "oS8KogG_OSXR",
        "colab_type": "code",
        "outputId": "5554c24c-46a3-4f24-9774-b1107acdd5ad",
        "colab": {}
      },
      "source": [
        "df = pd.DataFrame({'actual': 1 - y_valid.cat.codes, 'prob': predProb_valid[:, 0]})\n",
        "df = df.sort_values(by=['prob'], ascending=False).reset_index(drop=True)\n",
        "\n",
        "fig, ax = plt.subplots()\n",
        "fig.set_size_inches(4, 4)\n",
        "gainsChart(df.actual, ax=ax)\n",
        "\n",
        "plt.tight_layout()\n",
        "plt.show()"
      ],
      "execution_count": 0,
      "outputs": [
        {
          "output_type": "display_data",
          "data": {
            "image/png": "[encoded data removed]",
            "text/plain": [
              "<Figure size 288x288 with 1 Axes>"
            ]
          },
          "metadata": {
            "tags": [],
            "needs_background": "light"
          }
        }
      ]
    },
    {
      "cell_type": "code",
      "metadata": {
        "id": "thcpUp1QOSXU",
        "colab_type": "code",
        "outputId": "5129ebe6-ef6f-4f3e-cdc0-031920be5a54",
        "colab": {}
      },
      "source": [
        "import numpy as np\n",
        "np.exp(delays_nb.feature_log_prob_)"
      ],
      "execution_count": 0,
      "outputs": [
        {
          "output_type": "execute_result",
          "data": {
            "text/plain": [
              "array([[0.03831098, 0.02988425, 0.02298965, 0.02528785, 0.03754491,\n",
              "        0.01379685, 0.03218245, 0.00690226, 0.01073259, 0.01303079,\n",
              "        0.00383799, 0.00613619, 0.00230586, 0.00996652, 0.00920046,\n",
              "        0.00766832, 0.04060918, 0.01456292, 0.03065031, 0.00383799,\n",
              "        0.01992539, 0.00307193, 0.01762719, 0.01609505, 0.10419268,\n",
              "        0.07967856, 0.07584823, 0.03984311, 0.08427496, 0.01149866,\n",
              "        0.0628251 , 0.01915932, 0.04443951, 0.00153979, 0.04367344,\n",
              "        0.00307193, 0.01379685],\n",
              "       [0.02492933, 0.02832852, 0.02889505, 0.03588229, 0.033805  ,\n",
              "        0.02719546, 0.0209636 , 0.01246561, 0.01265445, 0.01699787,\n",
              "        0.01133254, 0.01038832, 0.00680028, 0.01322098, 0.01492058,\n",
              "        0.01152139, 0.02341857, 0.01548711, 0.02001938, 0.00698912,\n",
              "        0.00793335, 0.00528953, 0.01057716, 0.01208792, 0.12954902,\n",
              "        0.05835475, 0.05325596, 0.03116118, 0.11557455, 0.00698912,\n",
              "        0.04589103, 0.04079224, 0.02341857, 0.00207917, 0.033805  ,\n",
              "        0.00340108, 0.0436249 ]])"
            ]
          },
          "metadata": {
            "tags": []
          },
          "execution_count": 10
        }
      ]
    },
    {
      "cell_type": "code",
      "metadata": {
        "id": "ecVxzT6UOSXW",
        "colab_type": "code",
        "colab": {}
      },
      "source": [
        ""
      ],
      "execution_count": 0,
      "outputs": []
    }
  ]
}